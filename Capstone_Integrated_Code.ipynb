{
  "cells": [
    {
      "cell_type": "code",
      "execution_count": null,
      "metadata": {
        "colab": {
          "base_uri": "https://localhost:8080/",
          "height": 1000
        },
        "id": "NBAgArGhqJzt",
        "outputId": "ef89a1b8-d6ad-48ba-aead-e7742adda48e"
      },
      "outputs": [
        {
          "output_type": "stream",
          "name": "stdout",
          "text": [
            "Collecting streamlit\n",
            "  Downloading streamlit-1.2.0-py2.py3-none-any.whl (9.1 MB)\n",
            "\u001b[K     |████████████████████████████████| 9.1 MB 3.8 MB/s \n",
            "\u001b[?25hRequirement already satisfied: packaging in /usr/local/lib/python3.7/dist-packages (from streamlit) (21.3)\n",
            "Collecting watchdog\n",
            "  Downloading watchdog-2.1.6-py3-none-manylinux2014_x86_64.whl (76 kB)\n",
            "\u001b[K     |████████████████████████████████| 76 kB 4.2 MB/s \n",
            "\u001b[?25hRequirement already satisfied: python-dateutil in /usr/local/lib/python3.7/dist-packages (from streamlit) (2.8.2)\n",
            "Collecting pympler>=0.9\n",
            "  Downloading Pympler-0.9.tar.gz (178 kB)\n",
            "\u001b[K     |████████████████████████████████| 178 kB 33.2 MB/s \n",
            "\u001b[?25hRequirement already satisfied: protobuf!=3.11,>=3.6.0 in /usr/local/lib/python3.7/dist-packages (from streamlit) (3.17.3)\n",
            "Requirement already satisfied: tornado>=5.0 in /usr/local/lib/python3.7/dist-packages (from streamlit) (5.1.1)\n",
            "Requirement already satisfied: attrs in /usr/local/lib/python3.7/dist-packages (from streamlit) (21.2.0)\n",
            "Requirement already satisfied: toml in /usr/local/lib/python3.7/dist-packages (from streamlit) (0.10.2)\n",
            "Requirement already satisfied: numpy in /usr/local/lib/python3.7/dist-packages (from streamlit) (1.19.5)\n",
            "Requirement already satisfied: pillow>=6.2.0 in /usr/local/lib/python3.7/dist-packages (from streamlit) (7.1.2)\n",
            "Requirement already satisfied: pandas>=0.21.0 in /usr/local/lib/python3.7/dist-packages (from streamlit) (1.1.5)\n",
            "Requirement already satisfied: requests in /usr/local/lib/python3.7/dist-packages (from streamlit) (2.23.0)\n",
            "Collecting gitpython!=3.1.19\n",
            "  Downloading GitPython-3.1.24-py3-none-any.whl (180 kB)\n",
            "\u001b[K     |████████████████████████████████| 180 kB 37.3 MB/s \n",
            "\u001b[?25hRequirement already satisfied: click<8.0,>=7.0 in /usr/local/lib/python3.7/dist-packages (from streamlit) (7.1.2)\n",
            "Requirement already satisfied: astor in /usr/local/lib/python3.7/dist-packages (from streamlit) (0.8.1)\n",
            "Requirement already satisfied: pyarrow in /usr/local/lib/python3.7/dist-packages (from streamlit) (3.0.0)\n",
            "Requirement already satisfied: tzlocal in /usr/local/lib/python3.7/dist-packages (from streamlit) (1.5.1)\n",
            "Collecting validators\n",
            "  Downloading validators-0.18.2-py3-none-any.whl (19 kB)\n",
            "Collecting base58\n",
            "  Downloading base58-2.1.1-py3-none-any.whl (5.6 kB)\n",
            "Collecting blinker\n",
            "  Downloading blinker-1.4.tar.gz (111 kB)\n",
            "\u001b[K     |████████████████████████████████| 111 kB 43.2 MB/s \n",
            "\u001b[?25hRequirement already satisfied: cachetools>=4.0 in /usr/local/lib/python3.7/dist-packages (from streamlit) (4.2.4)\n",
            "Requirement already satisfied: altair>=3.2.0 in /usr/local/lib/python3.7/dist-packages (from streamlit) (4.1.0)\n",
            "Collecting pydeck>=0.1.dev5\n",
            "  Downloading pydeck-0.7.1-py2.py3-none-any.whl (4.3 MB)\n",
            "\u001b[K     |████████████████████████████████| 4.3 MB 38.1 MB/s \n",
            "\u001b[?25hRequirement already satisfied: jsonschema in /usr/local/lib/python3.7/dist-packages (from altair>=3.2.0->streamlit) (2.6.0)\n",
            "Requirement already satisfied: jinja2 in /usr/local/lib/python3.7/dist-packages (from altair>=3.2.0->streamlit) (2.11.3)\n",
            "Requirement already satisfied: toolz in /usr/local/lib/python3.7/dist-packages (from altair>=3.2.0->streamlit) (0.11.2)\n",
            "Requirement already satisfied: entrypoints in /usr/local/lib/python3.7/dist-packages (from altair>=3.2.0->streamlit) (0.3)\n",
            "Requirement already satisfied: typing-extensions>=3.7.4.3 in /usr/local/lib/python3.7/dist-packages (from gitpython!=3.1.19->streamlit) (3.10.0.2)\n",
            "Collecting gitdb<5,>=4.0.1\n",
            "  Downloading gitdb-4.0.9-py3-none-any.whl (63 kB)\n",
            "\u001b[K     |████████████████████████████████| 63 kB 1.5 MB/s \n",
            "\u001b[?25hCollecting smmap<6,>=3.0.1\n",
            "  Downloading smmap-5.0.0-py3-none-any.whl (24 kB)\n",
            "Requirement already satisfied: pytz>=2017.2 in /usr/local/lib/python3.7/dist-packages (from pandas>=0.21.0->streamlit) (2018.9)\n",
            "Requirement already satisfied: six>=1.9 in /usr/local/lib/python3.7/dist-packages (from protobuf!=3.11,>=3.6.0->streamlit) (1.15.0)\n",
            "Requirement already satisfied: traitlets>=4.3.2 in /usr/local/lib/python3.7/dist-packages (from pydeck>=0.1.dev5->streamlit) (5.1.1)\n",
            "Requirement already satisfied: ipywidgets>=7.0.0 in /usr/local/lib/python3.7/dist-packages (from pydeck>=0.1.dev5->streamlit) (7.6.5)\n",
            "Collecting ipykernel>=5.1.2\n",
            "  Downloading ipykernel-6.6.0-py3-none-any.whl (126 kB)\n",
            "\u001b[K     |████████████████████████████████| 126 kB 70.5 MB/s \n",
            "\u001b[?25hRequirement already satisfied: matplotlib-inline<0.2.0,>=0.1.0 in /usr/local/lib/python3.7/dist-packages (from ipykernel>=5.1.2->pydeck>=0.1.dev5->streamlit) (0.1.3)\n",
            "Requirement already satisfied: debugpy<2.0,>=1.0.0 in /usr/local/lib/python3.7/dist-packages (from ipykernel>=5.1.2->pydeck>=0.1.dev5->streamlit) (1.0.0)\n",
            "Requirement already satisfied: importlib-metadata<5 in /usr/local/lib/python3.7/dist-packages (from ipykernel>=5.1.2->pydeck>=0.1.dev5->streamlit) (4.8.2)\n",
            "Requirement already satisfied: jupyter-client<8.0 in /usr/local/lib/python3.7/dist-packages (from ipykernel>=5.1.2->pydeck>=0.1.dev5->streamlit) (5.3.5)\n",
            "Requirement already satisfied: argcomplete>=1.12.3 in /usr/local/lib/python3.7/dist-packages (from ipykernel>=5.1.2->pydeck>=0.1.dev5->streamlit) (1.12.3)\n",
            "Collecting ipython>=7.23.1\n",
            "  Downloading ipython-7.30.1-py3-none-any.whl (791 kB)\n",
            "\u001b[K     |████████████████████████████████| 791 kB 20.0 MB/s \n",
            "\u001b[?25hRequirement already satisfied: zipp>=0.5 in /usr/local/lib/python3.7/dist-packages (from importlib-metadata<5->ipykernel>=5.1.2->pydeck>=0.1.dev5->streamlit) (3.6.0)\n",
            "Collecting prompt-toolkit!=3.0.0,!=3.0.1,<3.1.0,>=2.0.0\n",
            "  Downloading prompt_toolkit-3.0.24-py3-none-any.whl (374 kB)\n",
            "\u001b[K     |████████████████████████████████| 374 kB 25.4 MB/s \n",
            "\u001b[?25hRequirement already satisfied: pexpect>4.3 in /usr/local/lib/python3.7/dist-packages (from ipython>=7.23.1->ipykernel>=5.1.2->pydeck>=0.1.dev5->streamlit) (4.8.0)\n",
            "Requirement already satisfied: decorator in /usr/local/lib/python3.7/dist-packages (from ipython>=7.23.1->ipykernel>=5.1.2->pydeck>=0.1.dev5->streamlit) (4.4.2)\n",
            "Requirement already satisfied: setuptools>=18.5 in /usr/local/lib/python3.7/dist-packages (from ipython>=7.23.1->ipykernel>=5.1.2->pydeck>=0.1.dev5->streamlit) (57.4.0)\n",
            "Requirement already satisfied: pygments in /usr/local/lib/python3.7/dist-packages (from ipython>=7.23.1->ipykernel>=5.1.2->pydeck>=0.1.dev5->streamlit) (2.6.1)\n",
            "Requirement already satisfied: backcall in /usr/local/lib/python3.7/dist-packages (from ipython>=7.23.1->ipykernel>=5.1.2->pydeck>=0.1.dev5->streamlit) (0.2.0)\n",
            "Requirement already satisfied: jedi>=0.16 in /usr/local/lib/python3.7/dist-packages (from ipython>=7.23.1->ipykernel>=5.1.2->pydeck>=0.1.dev5->streamlit) (0.18.1)\n",
            "Requirement already satisfied: pickleshare in /usr/local/lib/python3.7/dist-packages (from ipython>=7.23.1->ipykernel>=5.1.2->pydeck>=0.1.dev5->streamlit) (0.7.5)\n",
            "Requirement already satisfied: ipython-genutils~=0.2.0 in /usr/local/lib/python3.7/dist-packages (from ipywidgets>=7.0.0->pydeck>=0.1.dev5->streamlit) (0.2.0)\n",
            "Requirement already satisfied: nbformat>=4.2.0 in /usr/local/lib/python3.7/dist-packages (from ipywidgets>=7.0.0->pydeck>=0.1.dev5->streamlit) (5.1.3)\n",
            "Requirement already satisfied: jupyterlab-widgets>=1.0.0 in /usr/local/lib/python3.7/dist-packages (from ipywidgets>=7.0.0->pydeck>=0.1.dev5->streamlit) (1.0.2)\n",
            "Requirement already satisfied: widgetsnbextension~=3.5.0 in /usr/local/lib/python3.7/dist-packages (from ipywidgets>=7.0.0->pydeck>=0.1.dev5->streamlit) (3.5.2)\n",
            "Requirement already satisfied: parso<0.9.0,>=0.8.0 in /usr/local/lib/python3.7/dist-packages (from jedi>=0.16->ipython>=7.23.1->ipykernel>=5.1.2->pydeck>=0.1.dev5->streamlit) (0.8.3)\n",
            "Requirement already satisfied: MarkupSafe>=0.23 in /usr/local/lib/python3.7/dist-packages (from jinja2->altair>=3.2.0->streamlit) (2.0.1)\n",
            "Requirement already satisfied: pyzmq>=13 in /usr/local/lib/python3.7/dist-packages (from jupyter-client<8.0->ipykernel>=5.1.2->pydeck>=0.1.dev5->streamlit) (22.3.0)\n",
            "Requirement already satisfied: jupyter-core>=4.6.0 in /usr/local/lib/python3.7/dist-packages (from jupyter-client<8.0->ipykernel>=5.1.2->pydeck>=0.1.dev5->streamlit) (4.9.1)\n",
            "Requirement already satisfied: ptyprocess>=0.5 in /usr/local/lib/python3.7/dist-packages (from pexpect>4.3->ipython>=7.23.1->ipykernel>=5.1.2->pydeck>=0.1.dev5->streamlit) (0.7.0)\n",
            "Requirement already satisfied: wcwidth in /usr/local/lib/python3.7/dist-packages (from prompt-toolkit!=3.0.0,!=3.0.1,<3.1.0,>=2.0.0->ipython>=7.23.1->ipykernel>=5.1.2->pydeck>=0.1.dev5->streamlit) (0.2.5)\n",
            "Requirement already satisfied: notebook>=4.4.1 in /usr/local/lib/python3.7/dist-packages (from widgetsnbextension~=3.5.0->ipywidgets>=7.0.0->pydeck>=0.1.dev5->streamlit) (5.3.1)\n",
            "Requirement already satisfied: nbconvert in /usr/local/lib/python3.7/dist-packages (from notebook>=4.4.1->widgetsnbextension~=3.5.0->ipywidgets>=7.0.0->pydeck>=0.1.dev5->streamlit) (5.6.1)\n",
            "Requirement already satisfied: terminado>=0.8.1 in /usr/local/lib/python3.7/dist-packages (from notebook>=4.4.1->widgetsnbextension~=3.5.0->ipywidgets>=7.0.0->pydeck>=0.1.dev5->streamlit) (0.12.1)\n",
            "Requirement already satisfied: Send2Trash in /usr/local/lib/python3.7/dist-packages (from notebook>=4.4.1->widgetsnbextension~=3.5.0->ipywidgets>=7.0.0->pydeck>=0.1.dev5->streamlit) (1.8.0)\n",
            "Requirement already satisfied: mistune<2,>=0.8.1 in /usr/local/lib/python3.7/dist-packages (from nbconvert->notebook>=4.4.1->widgetsnbextension~=3.5.0->ipywidgets>=7.0.0->pydeck>=0.1.dev5->streamlit) (0.8.4)\n",
            "Requirement already satisfied: testpath in /usr/local/lib/python3.7/dist-packages (from nbconvert->notebook>=4.4.1->widgetsnbextension~=3.5.0->ipywidgets>=7.0.0->pydeck>=0.1.dev5->streamlit) (0.5.0)\n",
            "Requirement already satisfied: defusedxml in /usr/local/lib/python3.7/dist-packages (from nbconvert->notebook>=4.4.1->widgetsnbextension~=3.5.0->ipywidgets>=7.0.0->pydeck>=0.1.dev5->streamlit) (0.7.1)\n",
            "Requirement already satisfied: bleach in /usr/local/lib/python3.7/dist-packages (from nbconvert->notebook>=4.4.1->widgetsnbextension~=3.5.0->ipywidgets>=7.0.0->pydeck>=0.1.dev5->streamlit) (4.1.0)\n",
            "Requirement already satisfied: pandocfilters>=1.4.1 in /usr/local/lib/python3.7/dist-packages (from nbconvert->notebook>=4.4.1->widgetsnbextension~=3.5.0->ipywidgets>=7.0.0->pydeck>=0.1.dev5->streamlit) (1.5.0)\n",
            "Requirement already satisfied: webencodings in /usr/local/lib/python3.7/dist-packages (from bleach->nbconvert->notebook>=4.4.1->widgetsnbextension~=3.5.0->ipywidgets>=7.0.0->pydeck>=0.1.dev5->streamlit) (0.5.1)\n",
            "Requirement already satisfied: pyparsing!=3.0.5,>=2.0.2 in /usr/local/lib/python3.7/dist-packages (from packaging->streamlit) (3.0.6)\n",
            "Requirement already satisfied: urllib3!=1.25.0,!=1.25.1,<1.26,>=1.21.1 in /usr/local/lib/python3.7/dist-packages (from requests->streamlit) (1.24.3)\n",
            "Requirement already satisfied: certifi>=2017.4.17 in /usr/local/lib/python3.7/dist-packages (from requests->streamlit) (2021.10.8)\n",
            "Requirement already satisfied: chardet<4,>=3.0.2 in /usr/local/lib/python3.7/dist-packages (from requests->streamlit) (3.0.4)\n",
            "Requirement already satisfied: idna<3,>=2.5 in /usr/local/lib/python3.7/dist-packages (from requests->streamlit) (2.10)\n",
            "Building wheels for collected packages: pympler, blinker\n",
            "  Building wheel for pympler (setup.py) ... \u001b[?25l\u001b[?25hdone\n",
            "  Created wheel for pympler: filename=Pympler-0.9-py3-none-any.whl size=164824 sha256=9ea1239c8ff10e2fe3a0a8ea4fdc842726698ced214bd82ba03310c609c7151c\n",
            "  Stored in directory: /root/.cache/pip/wheels/1a/f3/d8/35d5614ea4ddd295ffb9372a5f2f9570d9593d1ea4be33ec6d\n",
            "  Building wheel for blinker (setup.py) ... \u001b[?25l\u001b[?25hdone\n",
            "  Created wheel for blinker: filename=blinker-1.4-py3-none-any.whl size=13478 sha256=c411c0345b5daa9b076cfdfde01ad7f3c31fd6ebad797c37d51c6408211a0549\n",
            "  Stored in directory: /root/.cache/pip/wheels/22/f5/18/df711b66eb25b21325c132757d4314db9ac5e8dabeaf196eab\n",
            "Successfully built pympler blinker\n",
            "Installing collected packages: prompt-toolkit, ipython, ipykernel, smmap, gitdb, watchdog, validators, pympler, pydeck, gitpython, blinker, base58, streamlit\n",
            "  Attempting uninstall: prompt-toolkit\n",
            "    Found existing installation: prompt-toolkit 1.0.18\n",
            "    Uninstalling prompt-toolkit-1.0.18:\n",
            "      Successfully uninstalled prompt-toolkit-1.0.18\n",
            "  Attempting uninstall: ipython\n",
            "    Found existing installation: ipython 5.5.0\n",
            "    Uninstalling ipython-5.5.0:\n",
            "      Successfully uninstalled ipython-5.5.0\n",
            "  Attempting uninstall: ipykernel\n",
            "    Found existing installation: ipykernel 4.10.1\n",
            "    Uninstalling ipykernel-4.10.1:\n",
            "      Successfully uninstalled ipykernel-4.10.1\n",
            "\u001b[31mERROR: pip's dependency resolver does not currently take into account all the packages that are installed. This behaviour is the source of the following dependency conflicts.\n",
            "jupyter-console 5.2.0 requires prompt-toolkit<2.0.0,>=1.0.0, but you have prompt-toolkit 3.0.24 which is incompatible.\n",
            "google-colab 1.0.0 requires ipykernel~=4.10, but you have ipykernel 6.6.0 which is incompatible.\n",
            "google-colab 1.0.0 requires ipython~=5.5.0, but you have ipython 7.30.1 which is incompatible.\u001b[0m\n",
            "Successfully installed base58-2.1.1 blinker-1.4 gitdb-4.0.9 gitpython-3.1.24 ipykernel-6.6.0 ipython-7.30.1 prompt-toolkit-3.0.24 pydeck-0.7.1 pympler-0.9 smmap-5.0.0 streamlit-1.2.0 validators-0.18.2 watchdog-2.1.6\n"
          ]
        },
        {
          "output_type": "display_data",
          "data": {
            "application/vnd.colab-display-data+json": {
              "pip_warning": {
                "packages": [
                  "IPython",
                  "ipykernel",
                  "prompt_toolkit"
                ]
              }
            }
          },
          "metadata": {}
        }
      ],
      "source": [
        "!pip install streamlit"
      ]
    },
    {
      "cell_type": "code",
      "execution_count": null,
      "metadata": {
        "id": "gYBsv-VFsrVm"
      },
      "outputs": [],
      "source": [
        "import pandas as pd\n",
        "import cv2\n",
        "import numpy as np\n",
        "from PIL import Image\n",
        "import matplotlib.pyplot as plt\n",
        "from skimage import io, img_as_float\n",
        "from skimage.filters import gaussian, median\n",
        "from skimage import util\n",
        "from skimage.color import rgb2gray\n",
        "from google.colab.patches import cv2_imshow\n",
        "def read_image(sample_image):\n",
        "  sample_image = cv2.imread(sample_image)\n",
        "  sample_image = cv2.cvtColor(sample_image, cv2.COLOR_BGR2RGB)\n",
        "  im = Image.fromarray(sample_image)\n",
        "  im.show()\n",
        "  sample_img_gray = cv2.cvtColor(sample_image,cv2.COLOR_BGR2GRAY)\n",
        "  #img_gray = Image.fromarray(sample_img_gray)\n",
        "  #img_gray.show()\n",
        "  return sample_img_gray,sample_image\n",
        "\n",
        "def patch_removal(img):\n",
        "  gray = cv2.cvtColor( img, cv2.COLOR_BGR2GRAY )\n",
        "  retval, binary = cv2.threshold(gray,190,255,cv2.THRESH_BINARY)\n",
        "  #cv2_imshow(binary)\n",
        "  dst = cv2.inpaint(img,binary,5,cv2.INPAINT_TELEA)\n",
        "  #cv2_imshow(dst)\n",
        "  return dst\n",
        "\n",
        "def noise_removal(img):\n",
        "  img = np.array(img)\n",
        "  #cv2.imshow(\"Original\",img)\n",
        "\n",
        "  #gauss_noise = util.random_noise(img,mode=\"gaussian\") # add gaussian noise\n",
        "  #sp_noise = util.random_noise(gauss_noise,mode=\"s&p\") # add s&p noise to image with gaussian noise\n",
        "  final_img = img_as_float(rgb2gray(img))\n",
        "  #cv2.imshow(\"noise\",final_img)\n",
        "\n",
        "  gauss_rem = gaussian(final_img, sigma=1, mode='constant', cval=0.0)  # to remove gaussian noise\n",
        "  #after removing gaussian noise\n",
        "  #cv2.imshow(\"gaussian_rem\",gauss_rem)\n",
        "\n",
        "  from skimage.morphology import disk  \n",
        "  #Disk creates a circular structuring element, similar to a mask with specific radius\n",
        "  sp_rem = median(gauss_rem, disk(3), mode='constant', cval=0.0)\n",
        "  #after removing salt and pepper noise\n",
        "  #cv2.imshow(\"s&p_rem\",sp_rem)\n",
        "  #plt.imshow(sp_rem,cmap = 'gray')\n",
        "  return sp_rem\n",
        "\n",
        "def hair_removal(img):\n",
        "  gray_scale = cv2.cvtColor(img, cv2.COLOR_RGB2GRAY)\n",
        "  # cross shaped kernel\n",
        "  kernel = cv2.getStructuringElement(1,(15,15))\n",
        "  # BlackHat transform on the grayscale image to find the hair contours\n",
        "  blackhat = cv2.morphologyEx(gray_scale, cv2.MORPH_BLACKHAT, kernel)\n",
        "\n",
        "  # intensifying the hair contours for the inpainting algorithm\n",
        "  retval, binary = cv2.threshold(blackhat,10,255,cv2.THRESH_BINARY)\n",
        "\n",
        "  # inpainting the original image\n",
        "  dst = cv2.inpaint(img,binary,1,cv2.INPAINT_TELEA)\n",
        "  '''\n",
        "  fig = plt.figure(figsize=(15,5))\n",
        "  ax = fig.add_subplot(122)\n",
        "  plt.imshow(dst)\n",
        "  ax.set_title('Hair Removal',fontsize=18)\n",
        "  '''\n",
        "  \n",
        "  return dst\n",
        "\n",
        "def log_transform(im):\n",
        "  im_log_law_transformation = 0.7 * (np.log(1 + np.float32(im)))\n",
        "  ''''\n",
        "  fig = plt.figure(figsize=(15,5))\n",
        "  ax = fig.add_subplot(122)\n",
        "  plt.imshow(im_log_law_transformation,cmap=\"gray\")\n",
        "  ax.set_title('log Transform',fontsize=18)\n",
        "  '''\n",
        "  return im_log_law_transformation\n",
        "\n",
        "def white_back(sample_img_gray):\n",
        "  (T, sample_img_gray) = cv2.threshold(sample_img_gray, 0, 255,\n",
        "\tcv2.THRESH_BINARY | cv2.THRESH_OTSU)\n",
        "  img_white = Image.fromarray(sample_img_gray)\n",
        "  '''\n",
        "  fig = plt.figure(figsize=(15,5))\n",
        "  ax = fig.add_subplot(122)\n",
        "  plt.imshow(sample_img_gray,cmap=\"gray\")\n",
        "  ax.set_title('white background',fontsize=18)\n",
        "  '''\n",
        "  return sample_img_gray\n",
        "\n",
        "def ada_morph(sample_img_gray):\n",
        "  adaptive_thresh = cv2.adaptiveThreshold(sample_img_gray,255,cv2.ADAPTIVE_THRESH_MEAN_C,cv2.THRESH_BINARY,11,2)\n",
        "  kernel = np.ones((5,5), np.uint8)\n",
        "  img_erosion = cv2.erode(sample_img_gray, kernel, iterations=4)\n",
        "  ed = 255 - img_erosion\n",
        "  edge = Image.fromarray(ed)\n",
        "  edge.show()\n",
        "  '''\n",
        "  fig = plt.figure(figsize=(15,5))\n",
        "  ax = fig.add_subplot(122)\n",
        "  plt.imshow(img_erosion,cmap=\"gray\")\n",
        "  ax.set_title('ada_morph',fontsize=18)\n",
        "  '''\n",
        "  return ed\n",
        "\n",
        "def contours(ed,sample_image,j):\n",
        "  hh, ww = sample_image.shape[:2]\n",
        "  contours,_ = cv2.findContours(ed,cv2.RETR_EXTERNAL,cv2.CHAIN_APPROX_NONE)\n",
        "  area_m = 0\n",
        "  for i,c in enumerate(contours):\n",
        "    \n",
        "    colour = (0,0,255)\n",
        "    M = cv2.moments(c)\n",
        "    cx = int(M['m10']/M['m00'])\n",
        "    cy = int(M['m01']/M['m00'])\n",
        "\n",
        "    cnt_norm = c - [cx, cy]\n",
        "    cnt_scaled = cnt_norm * 1.5\n",
        "    cnt_scaled = cnt_scaled + [cx, cy]\n",
        "    cnt_scaled = cnt_scaled.astype(np.int32)\n",
        "    area = cv2.contourArea(c)\n",
        "    if area>area_m:\n",
        "      cnt_inc = cnt_scaled\n",
        "      \n",
        "      area_m = area\n",
        "  \n",
        "  cv2.drawContours(sample_image,[cnt_inc],-1,colour,1)\n",
        "  \n",
        "  zero_array  = np.zeros(sample_image.shape[:-1]).astype(np.uint8)\n",
        "  cv2.fillPoly(zero_array, [cnt_inc], 255)\n",
        "  sel = zero_array != 255\n",
        "  sample_image[sel] = [255,255,255]\n",
        "  img_seg = Image.fromarray(sample_image)\n",
        "  return img_seg\n",
        "\n",
        "  #img_seg.save(f'/content/drive/MyDrive/Capstone_seg/segmented_melanoma_images/segmented_mel_extra2_image{j}.png')\n",
        "\n"
      ]
    },
    {
      "cell_type": "code",
      "execution_count": null,
      "metadata": {
        "id": "xZrMARGXsrX0"
      },
      "outputs": [],
      "source": [
        "#ltp\n",
        "import numpy as np\n",
        "def get_pixel(img,x,y,c):\n",
        "  new_val = 0\n",
        "  sliding_window1 = c+5 #35\n",
        "  sliding_window2 = c-5 #25 c=30\n",
        "  # c+t c-t \n",
        "  try :\n",
        "    if img[x][y] >= sliding_window2 and img[x][y] <= sliding_window1:\n",
        "      new_val = 0\n",
        "    elif img[x][y] > sliding_window1:\n",
        "      new_val = 1\n",
        "    elif img[x][y] < sliding_window2:\n",
        "      new_val = -1\n",
        "  except :\n",
        "    pass\n",
        "\n",
        "  return  new_val\n",
        "\n",
        "def upper_pat(n):\n",
        "  if n==-1:\n",
        "    return str(0)\n",
        "  else:\n",
        "    return str(n)\n",
        "\n",
        "def lower_pat(n):\n",
        "  if n==-1:\n",
        "    return '1'\n",
        "  elif n==1:\n",
        "    return '0'\n",
        "  else:\n",
        "    return str(n)\n",
        "\n",
        "def get_features(img, img_height, img_width):\n",
        "\n",
        "  # numpy array with same height and width of img\n",
        "  pattern_img = np.zeros((img_height, img_width),np.uint8)\n",
        "\n",
        "  for i in range(0,img_height):\n",
        "    bin1 = \"\"\n",
        "    bin2 = \"\"\n",
        "    for j in range(0,img_width):\n",
        "      center = img[i][j]\n",
        "      #right\n",
        "      pat = get_pixel(img,i,j+1,center)\n",
        "      up = upper_pat(pat)\n",
        "      bin1 = bin1 + up\n",
        "      lower = lower_pat(pat)\n",
        "      bin2 = bin2 + lower\n",
        "\n",
        "      #top-right\n",
        "      pat = get_pixel(img,i-1,j+1,center)\n",
        "      up = upper_pat(pat)\n",
        "      bin1 = bin1 + up\n",
        "      lower = lower_pat(pat)\n",
        "      bin2 = bin2 + lower\n",
        "\n",
        "      #top\n",
        "      pat = get_pixel(img,i-1,j,center)\n",
        "      up = upper_pat(pat)\n",
        "      bin1 = bin1 + up\n",
        "      lower = lower_pat(pat)\n",
        "      bin2 = bin2 + lower\n",
        "\n",
        "      #top-left\n",
        "      pat = get_pixel(img,i-1,j-1,center)\n",
        "      up = upper_pat(pat)\n",
        "      bin1 = bin1 + up\n",
        "      lower = lower_pat(pat)\n",
        "      bin2 = bin2 + lower\n",
        "\n",
        "      #left\n",
        "      pat = get_pixel(img,i,j-1,center)\n",
        "      up = upper_pat(pat)\n",
        "      bin1 = bin1 + up\n",
        "      lower = lower_pat(pat)\n",
        "      bin2 = bin2 + lower\n",
        "      \n",
        "      #bottom-left\n",
        "      pat = get_pixel(img,i+1,j-1,center)\n",
        "      up = upper_pat(pat)\n",
        "      bin1 = bin1 + up\n",
        "      lower = lower_pat(pat)\n",
        "      bin2 = bin2 + lower\n",
        "\n",
        "      #bottom\n",
        "      pat = get_pixel(img,i+1,j,center)\n",
        "      up = upper_pat(pat)\n",
        "      bin1 = bin1 + up\n",
        "      lower = lower_pat(pat)\n",
        "      bin2 = bin2 + lower\n",
        "\n",
        "      #bottom-right\n",
        "      pat = get_pixel(img,i+1,j+1,center)\n",
        "      up = upper_pat(pat)\n",
        "      bin1 = bin1 + up\n",
        "      lower = lower_pat(pat)\n",
        "      bin2 = bin2 + lower\n",
        "      \n",
        "      #print(bin1,\"\\n\")\n",
        "      #print(bin2,\"\\n\")\n",
        "      bin1 = bin1[::-1]\n",
        "      bin2 = bin2[::-1]\n",
        "      pattern_img[i, j] = int(bin1,2) + int(bin2,2)\n",
        "      bin1=\"\"\n",
        "      bin2=\"\"\n",
        "      \n",
        "      #print(pattern_img[i, j])\n",
        "  features = []\n",
        "  histogram = np.histogram(pattern_img, bins = np.arange(17))[0]\n",
        "  #print(histogram)\n",
        "  features.append(histogram)\n",
        "  features = np.concatenate(features, axis = 0)\n",
        "  return features"
      ]
    },
    {
      "cell_type": "code",
      "source": [
        "from skimage.feature import greycomatrix, greycoprops\n",
        "import glob\n",
        "from keras.preprocessing import image\n",
        "import numpy as np\n",
        "def glcm_feat(img):\n",
        "\n",
        "  glcm_lis = []\n",
        "  glcm = greycomatrix(np.array(img),distances=[5], angles=[0],symmetric=True, normed=True)\n",
        "  d = greycoprops(glcm, 'dissimilarity')[0, 0]\n",
        "  c = greycoprops(glcm, 'correlation')[0, 0]\n",
        "\n",
        "  ener = greycoprops(glcm, 'energy')[0, 0]\n",
        "\n",
        "\n",
        "  glcm_lis.append([d,c,ener])\n",
        "  return glcm_lis\n"
      ],
      "metadata": {
        "id": "xCye9V83h0V6"
      },
      "execution_count": null,
      "outputs": []
    },
    {
      "cell_type": "code",
      "execution_count": null,
      "metadata": {
        "colab": {
          "base_uri": "https://localhost:8080/"
        },
        "id": "VJot3j__qLpU",
        "outputId": "81615469-9074-4de5-d2ed-5e57b5dab936"
      },
      "outputs": [
        {
          "output_type": "stream",
          "name": "stdout",
          "text": [
            "Overwriting app.py\n"
          ]
        }
      ],
      "source": [
        "%%writefile app.py\n",
        "import tensorflow as tf\n",
        "import streamlit as st\n",
        "import pickle\n",
        "\n",
        "@st.cache(allow_output_mutation=True)\n",
        "def load_model():\n",
        "  model = pickle.load(open('/content/final_model.hdf5','rb')) #enter model here!!\n",
        "  return model\n",
        "with st.spinner('Model is being loaded..'):\n",
        "  model=load_model()\n",
        "\n",
        "st.write(\"\"\"\n",
        "         # Skin Cancer Classification\n",
        "         \"\"\"\n",
        "         )\n",
        "\n",
        "file = st.file_uploader(\"Please upload your image here....\", type=[\"jpg\", \"png\"])\n",
        "import cv2\n",
        "from PIL import Image, ImageOps\n",
        "import numpy as np\n",
        "st.set_option('deprecation.showfileUploaderEncoding', False)\n",
        "\n",
        "def import_and_predict(image_data, model): \n",
        "  \n",
        "  sample_img_gray,sample_image = read_image(image_data)\n",
        "  sample_image = hair_removal(sample_image)\n",
        "  sample_image = patch_removal(sample_image)\n",
        "  sample_img_gray = noise_removal(sample_image)\n",
        "  sample_img_gray = cv2.normalize(sample_img_gray, None, 0, 255, cv2.NORM_MINMAX, dtype = cv2.CV_8U)\n",
        "\n",
        "  sample_img_gray = log_transform(sample_img_gray)\n",
        "  sample_img_gray = cv2.normalize(sample_img_gray, None, 0, 255, cv2.NORM_MINMAX, dtype = cv2.CV_8U)\n",
        "\n",
        "\n",
        "  sample_img_gray = white_back(sample_img_gray)\n",
        "  for i in range(len(sample_img_gray)):\n",
        "    for j in range(len(sample_img_gray[i])):\n",
        "      if sample_img_gray[i][j]==0:\n",
        "        if (len(sample_img_gray) - i) <10 or (len(sample_img_gray) - j) < 10:\n",
        "          sample_img_gray[i][j] = 255\n",
        "\n",
        "  ed = ada_morph(sample_img_gray)\n",
        "  ret_image = contours(ed,sample_image)  # preprocessed and segmented image\n",
        "\n",
        "  #ltp\n",
        "  import cv2\n",
        "  img = cv2.cvtColor(ret_image, cv2.COLOR_BGR2GRAY)\n",
        "  #img = image.img_to_array(img, dtype='uint8')\n",
        "  lis = []\n",
        "  lis.append(get_features(img,img.shape[0],img.shape[1]))\n",
        "  lis1 = lis/np.linalg.norm(lis)\n",
        "  lis = list(lis1[0])\n",
        "  glcm_lis = glcm_feat(img)\n",
        "  lis.extend(glcm_lis[0])\n",
        "  liss = pd.DataFrame([lis],columns= ['f1','f2','f3','f4','f5','f6','f7','f8','f9','f10','f11','f12','f13','f14','f15','f16','f17','f18','f19'])\n",
        "\n",
        "\n",
        "  # output after model pred to be returned\n",
        "  y_pred = model.predict(liss[['f1','f2','f3','f4','f5','f6','f7','f8','f9','f10','f11','f12','f13','f14','f15','f16','f17','f18','f19']])\n",
        "  return y_pred # array\n",
        "if file is None:\n",
        "    st.text(\"Please upload an image file\")\n",
        "else:\n",
        "    image = Image.open(file) #input\n",
        "    st.image(image, use_column_width=True)\n",
        "    predictions = import_and_predict(image, model)\n",
        "    map_pred = {0:'Melanoma', 1:'NV', 2:'BKL'}\n",
        "    st.write(\"The detected skin lesion is \"+map_pred[predictions])\n",
        "#Whatever is our output should be printed rest all needs to be removed\n",
        "   # score = tf.nn.softmax(predictions[0]) #svm  output\n",
        "    #st.write(prediction)\n",
        "    #st.write(score) #svmoutput\n",
        "    #print(\n",
        "   # \"This image most likely belongs to {} with a {:.2f} percent confidence.\"\n",
        "   # .format(class_names[np.argmax(score)], 100 * np.max(score))\n",
        "#) #depends on our output"
      ]
    },
    {
      "cell_type": "code",
      "execution_count": null,
      "metadata": {
        "colab": {
          "base_uri": "https://localhost:8080/"
        },
        "id": "Z2YDUwX3qVg_",
        "outputId": "d873b583-4d2f-4bcf-9ed9-fdb6f12af736"
      },
      "outputs": [
        {
          "name": "stdout",
          "output_type": "stream",
          "text": [
            "Collecting pyngrok\n",
            "  Downloading pyngrok-5.1.0.tar.gz (745 kB)\n",
            "\u001b[?25l\r\u001b[K     |▍                               | 10 kB 25.9 MB/s eta 0:00:01\r\u001b[K     |▉                               | 20 kB 33.1 MB/s eta 0:00:01\r\u001b[K     |█▎                              | 30 kB 38.7 MB/s eta 0:00:01\r\u001b[K     |█▊                              | 40 kB 31.0 MB/s eta 0:00:01\r\u001b[K     |██▏                             | 51 kB 20.5 MB/s eta 0:00:01\r\u001b[K     |██▋                             | 61 kB 15.3 MB/s eta 0:00:01\r\u001b[K     |███                             | 71 kB 14.5 MB/s eta 0:00:01\r\u001b[K     |███▌                            | 81 kB 16.0 MB/s eta 0:00:01\r\u001b[K     |████                            | 92 kB 15.3 MB/s eta 0:00:01\r\u001b[K     |████▍                           | 102 kB 16.6 MB/s eta 0:00:01\r\u001b[K     |████▉                           | 112 kB 16.6 MB/s eta 0:00:01\r\u001b[K     |█████▎                          | 122 kB 16.6 MB/s eta 0:00:01\r\u001b[K     |█████▊                          | 133 kB 16.6 MB/s eta 0:00:01\r\u001b[K     |██████▏                         | 143 kB 16.6 MB/s eta 0:00:01\r\u001b[K     |██████▋                         | 153 kB 16.6 MB/s eta 0:00:01\r\u001b[K     |███████                         | 163 kB 16.6 MB/s eta 0:00:01\r\u001b[K     |███████▌                        | 174 kB 16.6 MB/s eta 0:00:01\r\u001b[K     |████████                        | 184 kB 16.6 MB/s eta 0:00:01\r\u001b[K     |████████▍                       | 194 kB 16.6 MB/s eta 0:00:01\r\u001b[K     |████████▉                       | 204 kB 16.6 MB/s eta 0:00:01\r\u001b[K     |█████████▎                      | 215 kB 16.6 MB/s eta 0:00:01\r\u001b[K     |█████████▊                      | 225 kB 16.6 MB/s eta 0:00:01\r\u001b[K     |██████████▏                     | 235 kB 16.6 MB/s eta 0:00:01\r\u001b[K     |██████████▌                     | 245 kB 16.6 MB/s eta 0:00:01\r\u001b[K     |███████████                     | 256 kB 16.6 MB/s eta 0:00:01\r\u001b[K     |███████████▍                    | 266 kB 16.6 MB/s eta 0:00:01\r\u001b[K     |███████████▉                    | 276 kB 16.6 MB/s eta 0:00:01\r\u001b[K     |████████████▎                   | 286 kB 16.6 MB/s eta 0:00:01\r\u001b[K     |████████████▊                   | 296 kB 16.6 MB/s eta 0:00:01\r\u001b[K     |█████████████▏                  | 307 kB 16.6 MB/s eta 0:00:01\r\u001b[K     |█████████████▋                  | 317 kB 16.6 MB/s eta 0:00:01\r\u001b[K     |██████████████                  | 327 kB 16.6 MB/s eta 0:00:01\r\u001b[K     |██████████████▌                 | 337 kB 16.6 MB/s eta 0:00:01\r\u001b[K     |███████████████                 | 348 kB 16.6 MB/s eta 0:00:01\r\u001b[K     |███████████████▍                | 358 kB 16.6 MB/s eta 0:00:01\r\u001b[K     |███████████████▉                | 368 kB 16.6 MB/s eta 0:00:01\r\u001b[K     |████████████████▎               | 378 kB 16.6 MB/s eta 0:00:01\r\u001b[K     |████████████████▊               | 389 kB 16.6 MB/s eta 0:00:01\r\u001b[K     |█████████████████▏              | 399 kB 16.6 MB/s eta 0:00:01\r\u001b[K     |█████████████████▋              | 409 kB 16.6 MB/s eta 0:00:01\r\u001b[K     |██████████████████              | 419 kB 16.6 MB/s eta 0:00:01\r\u001b[K     |██████████████████▌             | 430 kB 16.6 MB/s eta 0:00:01\r\u001b[K     |███████████████████             | 440 kB 16.6 MB/s eta 0:00:01\r\u001b[K     |███████████████████▍            | 450 kB 16.6 MB/s eta 0:00:01\r\u001b[K     |███████████████████▉            | 460 kB 16.6 MB/s eta 0:00:01\r\u001b[K     |████████████████████▎           | 471 kB 16.6 MB/s eta 0:00:01\r\u001b[K     |████████████████████▋           | 481 kB 16.6 MB/s eta 0:00:01\r\u001b[K     |█████████████████████           | 491 kB 16.6 MB/s eta 0:00:01\r\u001b[K     |█████████████████████▌          | 501 kB 16.6 MB/s eta 0:00:01\r\u001b[K     |██████████████████████          | 512 kB 16.6 MB/s eta 0:00:01\r\u001b[K     |██████████████████████▍         | 522 kB 16.6 MB/s eta 0:00:01\r\u001b[K     |██████████████████████▉         | 532 kB 16.6 MB/s eta 0:00:01\r\u001b[K     |███████████████████████▎        | 542 kB 16.6 MB/s eta 0:00:01\r\u001b[K     |███████████████████████▊        | 552 kB 16.6 MB/s eta 0:00:01\r\u001b[K     |████████████████████████▏       | 563 kB 16.6 MB/s eta 0:00:01\r\u001b[K     |████████████████████████▋       | 573 kB 16.6 MB/s eta 0:00:01\r\u001b[K     |█████████████████████████       | 583 kB 16.6 MB/s eta 0:00:01\r\u001b[K     |█████████████████████████▌      | 593 kB 16.6 MB/s eta 0:00:01\r\u001b[K     |██████████████████████████      | 604 kB 16.6 MB/s eta 0:00:01\r\u001b[K     |██████████████████████████▍     | 614 kB 16.6 MB/s eta 0:00:01\r\u001b[K     |██████████████████████████▉     | 624 kB 16.6 MB/s eta 0:00:01\r\u001b[K     |███████████████████████████▎    | 634 kB 16.6 MB/s eta 0:00:01\r\u001b[K     |███████████████████████████▊    | 645 kB 16.6 MB/s eta 0:00:01\r\u001b[K     |████████████████████████████▏   | 655 kB 16.6 MB/s eta 0:00:01\r\u001b[K     |████████████████████████████▋   | 665 kB 16.6 MB/s eta 0:00:01\r\u001b[K     |█████████████████████████████   | 675 kB 16.6 MB/s eta 0:00:01\r\u001b[K     |█████████████████████████████▌  | 686 kB 16.6 MB/s eta 0:00:01\r\u001b[K     |██████████████████████████████  | 696 kB 16.6 MB/s eta 0:00:01\r\u001b[K     |██████████████████████████████▍ | 706 kB 16.6 MB/s eta 0:00:01\r\u001b[K     |██████████████████████████████▊ | 716 kB 16.6 MB/s eta 0:00:01\r\u001b[K     |███████████████████████████████▏| 727 kB 16.6 MB/s eta 0:00:01\r\u001b[K     |███████████████████████████████▋| 737 kB 16.6 MB/s eta 0:00:01\r\u001b[K     |████████████████████████████████| 745 kB 16.6 MB/s \n",
            "\u001b[?25hRequirement already satisfied: PyYAML in /usr/local/lib/python3.7/dist-packages (from pyngrok) (3.13)\n",
            "Building wheels for collected packages: pyngrok\n",
            "  Building wheel for pyngrok (setup.py) ... \u001b[?25l\u001b[?25hdone\n",
            "  Created wheel for pyngrok: filename=pyngrok-5.1.0-py3-none-any.whl size=19006 sha256=7dcdeb1a5bf575541264867041a635b7253faed38b491c2267ddf01a5fa93bd9\n",
            "  Stored in directory: /root/.cache/pip/wheels/bf/e6/af/ccf6598ecefecd44104069371795cb9b3afbcd16987f6ccfb3\n",
            "Successfully built pyngrok\n",
            "Installing collected packages: pyngrok\n",
            "Successfully installed pyngrok-5.1.0\n"
          ]
        }
      ],
      "source": [
        "!pip install pyngrok"
      ]
    },
    {
      "cell_type": "code",
      "execution_count": null,
      "metadata": {
        "colab": {
          "base_uri": "https://localhost:8080/"
        },
        "id": "SWl7-_26qPJB",
        "outputId": "2e5d9f53-41ee-471d-814b-c8ddf95ce5ee"
      },
      "outputs": [
        {
          "name": "stdout",
          "output_type": "stream",
          "text": [
            "NAME:\n",
            "   authtoken - save authtoken to configuration file\n",
            "\n",
            "USAGE:\n",
            "   ngrok authtoken [command options] [arguments...]\n",
            "\n",
            "DESCRIPTION:\n",
            "   The authtoken command modifies your configuration file to include\n",
            "   the specified authtoken. By default, this configuration file is located\n",
            "   at $HOME/.ngrok2/ngrok.yml\n",
            "\n",
            "   The ngrok.com service requires that you sign up for an account to use\n",
            "   many advanced service features. In order to associate your client with\n",
            "   an account, it must pass a secret token to the ngrok.com service when it\n",
            "   starts up. Instead of passing this authtoken on every invocation, you may\n",
            "   use this command to save it into your configuration file so that your\n",
            "   client always authenticates you properly.\n",
            "\n",
            "EXAMPLE:\n",
            "    ngrok authtoken BDZIXnhJt2HNWLXyQ5PM_qCaBq0W2sNFcCa0rfTZd\n",
            "\n",
            "OPTIONS:\n",
            "   --config \t\tsave in this config file, default: ~/.ngrok2/ngrok.yml\n",
            "   --log \"false\"\tpath to log file, 'stdout', 'stderr' or 'false'\n",
            "   --log-format \"term\"\tlog record format: 'term', 'logfmt', 'json'\n",
            "   --log-level \"info\"\tlogging level\n",
            "\n",
            "ERROR:  You must pass a single argument, the authtoken to save to configuration file.\n"
          ]
        }
      ],
      "source": [
        "!ngrok authtoken #Insert Authentication Token here, obtained from Ngrok"
      ]
    },
    {
      "cell_type": "code",
      "execution_count": null,
      "metadata": {
        "colab": {
          "base_uri": "https://localhost:8080/"
        },
        "id": "qXvi6p3ErN0N",
        "outputId": "93687e27-3466-43bf-a969-e7ee13e2cd15"
      },
      "outputs": [
        {
          "name": "stdout",
          "output_type": "stream",
          "text": [
            "nohup: appending output to 'nohup.out'\n"
          ]
        }
      ],
      "source": [
        "!nohup streamlit run app.py &"
      ]
    },
    {
      "cell_type": "code",
      "execution_count": null,
      "metadata": {
        "colab": {
          "base_uri": "https://localhost:8080/"
        },
        "id": "kZ5rxEoyrO9S",
        "outputId": "cb1317d4-26f7-492c-f315-e127463aef17"
      },
      "outputs": [
        {
          "data": {
            "text/plain": [
              "<NgrokTunnel: \"http://8578-34-90-221-232.ngrok.io\" -> \"http://localhost:80\">"
            ]
          },
          "execution_count": 7,
          "metadata": {},
          "output_type": "execute_result"
        }
      ],
      "source": [
        "from pyngrok import ngrok\n",
        "url=ngrok.connect(port=8501)\n",
        "url"
      ]
    },
    {
      "cell_type": "code",
      "execution_count": null,
      "metadata": {
        "id": "7iCfdkTErVH-"
      },
      "outputs": [],
      "source": [
        "!cat /content/nohup.out"
      ]
    },
    {
      "cell_type": "markdown",
      "metadata": {
        "id": "nOR85ANsrV2E"
      },
      "source": [
        "Alternate if  ngrok command not work\n"
      ]
    },
    {
      "cell_type": "code",
      "execution_count": null,
      "metadata": {
        "colab": {
          "base_uri": "https://localhost:8080/"
        },
        "id": "95w6-Owlrf4k",
        "outputId": "dc3ecb73-21f4-4b19-c50b-d2507069288d"
      },
      "outputs": [
        {
          "name": "stdout",
          "output_type": "stream",
          "text": [
            "--2021-12-11 09:38:42--  https://bin.equinox.io/c/4VmDzA7iaHb/ngrok-stable-linux-amd64.zip\n",
            "Resolving bin.equinox.io (bin.equinox.io)... 54.237.133.81, 52.202.168.65, 54.161.241.46, ...\n",
            "Connecting to bin.equinox.io (bin.equinox.io)|54.237.133.81|:443... connected.\n",
            "HTTP request sent, awaiting response... 200 OK\n",
            "Length: 13832437 (13M) [application/octet-stream]\n",
            "Saving to: ‘ngrok-stable-linux-amd64.zip’\n",
            "\n",
            "ngrok-stable-linux- 100%[===================>]  13.19M  11.9MB/s    in 1.1s    \n",
            "\n",
            "2021-12-11 09:38:44 (11.9 MB/s) - ‘ngrok-stable-linux-amd64.zip’ saved [13832437/13832437]\n",
            "\n"
          ]
        }
      ],
      "source": [
        "!wget https://bin.equinox.io/c/4VmDzA7iaHb/ngrok-stable-linux-amd64.zip"
      ]
    },
    {
      "cell_type": "code",
      "execution_count": null,
      "metadata": {
        "colab": {
          "base_uri": "https://localhost:8080/"
        },
        "id": "H8iVGAlIrYKJ",
        "outputId": "1e2e3c72-7eda-4b59-ad2a-7fd755028549"
      },
      "outputs": [
        {
          "name": "stdout",
          "output_type": "stream",
          "text": [
            "Archive:  ngrok-stable-linux-amd64.zip\n",
            "  inflating: ngrok                   \n"
          ]
        }
      ],
      "source": [
        "!unzip ngrok-stable-linux-amd64.zip"
      ]
    },
    {
      "cell_type": "code",
      "execution_count": null,
      "metadata": {
        "id": "G8sijJlOrrar"
      },
      "outputs": [],
      "source": [
        "get_ipython().system_raw('./ngrok http 8501 &')"
      ]
    },
    {
      "cell_type": "code",
      "execution_count": null,
      "metadata": {
        "colab": {
          "base_uri": "https://localhost:8080/"
        },
        "id": "d-J4pSamrvfl",
        "outputId": "e26dfc27-bf1d-456c-9c0b-1dc82c7deaa0"
      },
      "outputs": [
        {
          "name": "stdout",
          "output_type": "stream",
          "text": [
            "/bin/bash: -c: line 0: unexpected EOF while looking for matching `''\n",
            "/bin/bash: -c: line 1: syntax error: unexpected end of file\n"
          ]
        }
      ],
      "source": [
        " !curl -s http://localhost:4040/api/tunnels | python3 -c \\\n",
        "    'import sys, json; print(\"Execute the next cell and the go to the following URL: \" +json.load(sys.stdin)[\"tunnels\"][0][\"public_url \n",
        "  "
      ]
    },
    {
      "cell_type": "code",
      "execution_count": null,
      "metadata": {
        "colab": {
          "base_uri": "https://localhost:8080/"
        },
        "id": "uc7QVIsqrwwQ",
        "outputId": "840f8699-f363-46df-b0a7-6b88effaf2e1"
      },
      "outputs": [
        {
          "output_type": "stream",
          "name": "stdout",
          "text": [
            "\u001b[0m\n",
            "\u001b[34m\u001b[1m  You can now view your Streamlit app in your browser.\u001b[0m\n",
            "\u001b[0m\n",
            "\u001b[34m  Network URL: \u001b[0m\u001b[1mhttp://172.28.0.2:8501\u001b[0m\n",
            "\u001b[34m  External URL: \u001b[0m\u001b[1mhttp://35.221.255.5:8501\u001b[0m\n",
            "\u001b[0m\n",
            "\u001b[34m  Stopping...\u001b[0m\n",
            "\u001b[34m  Stopping...\u001b[0m\n"
          ]
        }
      ],
      "source": [
        "!streamlit run /content/app.py  # add our model"
      ]
    },
    {
      "cell_type": "code",
      "execution_count": null,
      "metadata": {
        "id": "FRtoBTFp3NPF"
      },
      "outputs": [],
      "source": [
        ""
      ]
    }
  ],
  "metadata": {
    "colab": {
      "name": "Capstone_Integrated_Code.ipynb",
      "provenance": [],
      "collapsed_sections": []
    },
    "kernelspec": {
      "display_name": "Python 3",
      "name": "python3"
    },
    "language_info": {
      "name": "python"
    }
  },
  "nbformat": 4,
  "nbformat_minor": 0
}